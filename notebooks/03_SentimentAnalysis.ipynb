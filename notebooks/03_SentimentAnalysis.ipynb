{
 "cells": [
  {
   "cell_type": "markdown",
   "id": "162c68c4-6609-4581-adae-2b522c5f7a35",
   "metadata": {},
   "source": [
    "Purpose: Use Vader sentiment analyzer to collect sentiment for each tweet it the dataframe. (Will repeat multiple times for each year)"
   ]
  },
  {
   "cell_type": "code",
   "execution_count": 1,
   "id": "7b3b6cad-ebab-491c-919b-0b2aa7f25285",
   "metadata": {},
   "outputs": [],
   "source": [
    "import pandas as pd\n",
    "from textblob import TextBlob\n",
    "import re\n",
    "import string\n",
    "from nltk.sentiment.vader import SentimentIntensityAnalyzer\n",
    "import time "
   ]
  },
  {
   "cell_type": "code",
   "execution_count": 2,
   "id": "3cdb2eea-6472-4383-9056-34fbfb1d4799",
   "metadata": {},
   "outputs": [],
   "source": [
    "path = \"/Users/cocoramgopal/code/cryptocurrency1/data/raw/\""
   ]
  },
  {
   "cell_type": "code",
   "execution_count": 3,
   "id": "81298b38-732c-4b09-bbaf-44a35397ed41",
   "metadata": {},
   "outputs": [
    {
     "data": {
      "text/plain": [
       "created_at       object\n",
       "text             object\n",
       "like_count        int64\n",
       "retweet_count     int64\n",
       "quote_count       int64\n",
       "reply_count       int64\n",
       "dtype: object"
      ]
     },
     "execution_count": 3,
     "metadata": {},
     "output_type": "execute_result"
    }
   ],
   "source": [
    "#Example using 2014 data \n",
    "original_df = pd.read_csv(path+\"2014Data.csv\")\n",
    "original_df.dtypes\n"
   ]
  },
  {
   "cell_type": "code",
   "execution_count": 31,
   "id": "29df1b9e-eee9-4634-a4d0-b02d334b63c6",
   "metadata": {},
   "outputs": [
    {
     "data": {
      "text/html": [
       "<div>\n",
       "<style scoped>\n",
       "    .dataframe tbody tr th:only-of-type {\n",
       "        vertical-align: middle;\n",
       "    }\n",
       "\n",
       "    .dataframe tbody tr th {\n",
       "        vertical-align: top;\n",
       "    }\n",
       "\n",
       "    .dataframe thead th {\n",
       "        text-align: right;\n",
       "    }\n",
       "</style>\n",
       "<table border=\"1\" class=\"dataframe\">\n",
       "  <thead>\n",
       "    <tr style=\"text-align: right;\">\n",
       "      <th></th>\n",
       "      <th>created_at</th>\n",
       "      <th>text</th>\n",
       "      <th>text_cleaned_string</th>\n",
       "    </tr>\n",
       "  </thead>\n",
       "  <tbody>\n",
       "    <tr>\n",
       "      <th>0</th>\n",
       "      <td>2014-01-30 23:58:43+00:00</td>\n",
       "      <td>@BitcoinPosse  The bitcoin  pins are and  I wi...</td>\n",
       "      <td>@BitcoinPosse  The bitcoin  pins are and  I wi...</td>\n",
       "    </tr>\n",
       "    <tr>\n",
       "      <th>1</th>\n",
       "      <td>2014-01-30 23:56:16+00:00</td>\n",
       "      <td>In the last 10 mins, there were arb opps spann...</td>\n",
       "      <td>In the last 10 mins, there were arb opps spann...</td>\n",
       "    </tr>\n",
       "    <tr>\n",
       "      <th>2</th>\n",
       "      <td>2014-01-30 23:55:38+00:00</td>\n",
       "      <td>\"I can't believe how much business I've gotten...</td>\n",
       "      <td>\"I can't believe how much business I've gotten...</td>\n",
       "    </tr>\n",
       "    <tr>\n",
       "      <th>3</th>\n",
       "      <td>2014-01-30 23:55:19+00:00</td>\n",
       "      <td>@dtcb @fascinated bitcoin as real life</td>\n",
       "      <td>@dtcb @fascinated bitcoin as real life</td>\n",
       "    </tr>\n",
       "    <tr>\n",
       "      <th>4</th>\n",
       "      <td>2014-01-30 23:54:48+00:00</td>\n",
       "      <td>Hey @BitSprinkle sprinkle me some #Bitcoin 12c...</td>\n",
       "      <td>Hey @BitSprinkle sprinkle me some #Bitcoin 12c...</td>\n",
       "    </tr>\n",
       "    <tr>\n",
       "      <th>...</th>\n",
       "      <td>...</td>\n",
       "      <td>...</td>\n",
       "      <td>...</td>\n",
       "    </tr>\n",
       "    <tr>\n",
       "      <th>716144</th>\n",
       "      <td>2014-12-01 00:00:15+00:00</td>\n",
       "      <td>1 #BTC (#Bitcoin) quotes:\\n$376.08/$376.50 #Bi...</td>\n",
       "      <td>1 #BTC (#Bitcoin) quotes:\n",
       "$376.08/$376.50 #Bit...</td>\n",
       "    </tr>\n",
       "    <tr>\n",
       "      <th>716145</th>\n",
       "      <td>2014-12-01 00:00:05+00:00</td>\n",
       "      <td>Bitcoin's distributed asset ledger is the most...</td>\n",
       "      <td>Bitcoin's distributed asset ledger is the most...</td>\n",
       "    </tr>\n",
       "    <tr>\n",
       "      <th>716146</th>\n",
       "      <td>2014-12-01 00:00:05+00:00</td>\n",
       "      <td>One Bitcoin now worth $376.984. Market Cap $5....</td>\n",
       "      <td>One Bitcoin now worth $376.984. Market Cap $5....</td>\n",
       "    </tr>\n",
       "    <tr>\n",
       "      <th>716147</th>\n",
       "      <td>2014-12-01 00:00:02+00:00</td>\n",
       "      <td>The current BTC (#bitcoin) value in USD is $37...</td>\n",
       "      <td>The current BTC (#bitcoin) value in USD is $37...</td>\n",
       "    </tr>\n",
       "    <tr>\n",
       "      <th>716148</th>\n",
       "      <td>2014-12-01 00:00:02+00:00</td>\n",
       "      <td>The average price of Bitcoin across all exchan...</td>\n",
       "      <td>The average price of Bitcoin across all exchan...</td>\n",
       "    </tr>\n",
       "  </tbody>\n",
       "</table>\n",
       "<p>716149 rows × 3 columns</p>\n",
       "</div>"
      ],
      "text/plain": [
       "                       created_at  \\\n",
       "0       2014-01-30 23:58:43+00:00   \n",
       "1       2014-01-30 23:56:16+00:00   \n",
       "2       2014-01-30 23:55:38+00:00   \n",
       "3       2014-01-30 23:55:19+00:00   \n",
       "4       2014-01-30 23:54:48+00:00   \n",
       "...                           ...   \n",
       "716144  2014-12-01 00:00:15+00:00   \n",
       "716145  2014-12-01 00:00:05+00:00   \n",
       "716146  2014-12-01 00:00:05+00:00   \n",
       "716147  2014-12-01 00:00:02+00:00   \n",
       "716148  2014-12-01 00:00:02+00:00   \n",
       "\n",
       "                                                     text  \\\n",
       "0       @BitcoinPosse  The bitcoin  pins are and  I wi...   \n",
       "1       In the last 10 mins, there were arb opps spann...   \n",
       "2       \"I can't believe how much business I've gotten...   \n",
       "3                  @dtcb @fascinated bitcoin as real life   \n",
       "4       Hey @BitSprinkle sprinkle me some #Bitcoin 12c...   \n",
       "...                                                   ...   \n",
       "716144  1 #BTC (#Bitcoin) quotes:\\n$376.08/$376.50 #Bi...   \n",
       "716145  Bitcoin's distributed asset ledger is the most...   \n",
       "716146  One Bitcoin now worth $376.984. Market Cap $5....   \n",
       "716147  The current BTC (#bitcoin) value in USD is $37...   \n",
       "716148  The average price of Bitcoin across all exchan...   \n",
       "\n",
       "                                      text_cleaned_string  \n",
       "0       @BitcoinPosse  The bitcoin  pins are and  I wi...  \n",
       "1       In the last 10 mins, there were arb opps spann...  \n",
       "2       \"I can't believe how much business I've gotten...  \n",
       "3                  @dtcb @fascinated bitcoin as real life  \n",
       "4       Hey @BitSprinkle sprinkle me some #Bitcoin 12c...  \n",
       "...                                                   ...  \n",
       "716144  1 #BTC (#Bitcoin) quotes:\n",
       "$376.08/$376.50 #Bit...  \n",
       "716145  Bitcoin's distributed asset ledger is the most...  \n",
       "716146  One Bitcoin now worth $376.984. Market Cap $5....  \n",
       "716147  The current BTC (#bitcoin) value in USD is $37...  \n",
       "716148  The average price of Bitcoin across all exchan...  \n",
       "\n",
       "[716149 rows x 3 columns]"
      ]
     },
     "execution_count": 31,
     "metadata": {},
     "output_type": "execute_result"
    }
   ],
   "source": [
    "#Drop unecessary columns and convert text to string \n",
    "original_df = original_df.drop(['retweet_count', 'reply_count', 'quote_count', 'like_count'], axis = 1)\n",
    "original_df['text_cleaned_string'] = pd.Series(original_df['text'], dtype = pd.StringDtype())\n"
   ]
  },
  {
   "cell_type": "code",
   "execution_count": 32,
   "id": "22d3aa98-8c63-4fdd-b372-7a17f2e19a1c",
   "metadata": {},
   "outputs": [],
   "source": [
    "#Convert Date to Datetime \n",
    "original_df['date_object'] = pd.to_datetime(original_df['created_at'], infer_datetime_format=True).dt.tz_localize(None)\n",
    "original_df['datetime_striped'] = original_df['date_object'].dt.strftime('%b-%Y')\n",
    "original_df['date_object'] =  original_df.date_object.dt.strftime(\"%Y-%m-%d\") "
   ]
  },
  {
   "cell_type": "code",
   "execution_count": 33,
   "id": "a1a8ebf6-c56c-4e88-bf5b-20e5bdf7a48c",
   "metadata": {},
   "outputs": [],
   "source": [
    "#Create new clean dataframe for sentiment analysis\n",
    "clean_df = pd.DataFrame(original_df['text_cleaned_string'])\n",
    "clean_df['month_year'] = original_df['datetime_striped']\n",
    "clean_df['date'] =original_df['date_object']"
   ]
  },
  {
   "cell_type": "code",
   "execution_count": 35,
   "id": "7882b282-ef40-4742-b78d-2ef096366be4",
   "metadata": {},
   "outputs": [],
   "source": [
    "#Function to process and clean tweets for analysis \n",
    "\n",
    "def process_tweets(tweet): \n",
    "    tweet = str(tweet)\n",
    "    \n",
    "    tweet = re.sub(r'\\$\\w*', '', tweet)\n",
    "\n",
    "    # remove old style retweet text \"RT\"\n",
    "    tweet = re.sub(r'^RT[\\s]+', '', tweet)\n",
    "\n",
    "\t# remove hyperlinks\n",
    "    tweet = re.sub(r'https?:\\/\\/.*[\\r\\n]*', '', tweet)\n",
    "\t\n",
    "\t# remove hashtags\n",
    "\t# only removing the hash # sign from the word\n",
    "    tweet = re.sub(r'#', '', tweet)\n",
    "    tweet = re.sub('r-', '', tweet)\n",
    "    \n",
    "    #remove html tags from tweets\n",
    "    clean = re.compile('<.*?>')\n",
    "    tweet = re.sub(clean, '', tweet)\n",
    "    \n",
    "    #remove mentions\n",
    "    tweet = re.sub(r\"@(\\w+)\", ' ', tweet, flags=re.MULTILINE)\n",
    "    \n",
    "    #remove /n \n",
    "    tweet=re.sub(\"\\n\",\"\",tweet)\n",
    "    \n",
    "    #remove punctuation\n",
    "    apostrophe_handled = re.sub(\"'\", \"'\", tweet) \n",
    "    \n",
    "    text  = re.sub(\"[^-9A-Za-z\\s]\", \"\" , apostrophe_handled)\n",
    "    text = text.lower()\n",
    "    return text"
   ]
  },
  {
   "cell_type": "code",
   "execution_count": 36,
   "id": "fb611042-036b-4d54-b73f-f3d9a4a545f5",
   "metadata": {},
   "outputs": [],
   "source": [
    "clean_df['text_cleaned_string'] = clean_df['text_cleaned_string'].apply(process_tweets)"
   ]
  },
  {
   "cell_type": "code",
   "execution_count": 37,
   "id": "dc722ad8-1988-4b5a-9e39-2bbdb96bf16b",
   "metadata": {},
   "outputs": [],
   "source": [
    "#Function that applies the TextBlob sentiment analysis to each tweet \n",
    "\n",
    "def tb_enrich(ls):\n",
    "    #Enriches a column of text with TextBlob Sentiment Analysis outputs\n",
    "    tb_polarity = []\n",
    "    tb_subject = []\n",
    "\n",
    "    for tweet in ls:\n",
    "        sentiment = TextBlob(tweet).sentiment\n",
    "        tb_polarity.append(sentiment[0])\n",
    "        tb_subject.append(sentiment[1])\n",
    "    \n",
    "\n",
    "    return tb_polarity, tb_subject"
   ]
  },
  {
   "cell_type": "code",
   "execution_count": 38,
   "id": "38b16533-5473-4d4e-a217-f097fbeb48b7",
   "metadata": {},
   "outputs": [],
   "source": [
    "#Function called to determine overall sentiment \n",
    "def get_sentiment(ls):\n",
    "    \n",
    "    sentiment_list = []\n",
    "    \n",
    "    for tweet in ls: \n",
    "        if tweet > 0.00:\n",
    "            sentiment = 'positive'\n",
    "        elif tweet < 0.00:\n",
    "            sentiment = 'negative'\n",
    "        else:\n",
    "            sentiment = 'neutral'\n",
    "        sentiment_list.append(sentiment)\n",
    "    return sentiment_list "
   ]
  },
  {
   "cell_type": "code",
   "execution_count": 39,
   "id": "2a350d5f-d6fd-44fd-94a4-bca4868ba8c4",
   "metadata": {},
   "outputs": [],
   "source": [
    "clean_df[\"Polarity\"], clean_df[\"Subjectivity\"] = tb_enrich(list(clean_df['text_cleaned_string']))\n",
    "clean_df['polarity_sentiment'] = get_sentiment(list(clean_df['Polarity']))"
   ]
  },
  {
   "cell_type": "code",
   "execution_count": 40,
   "id": "464e43df-4978-4983-b446-60828c79eac3",
   "metadata": {},
   "outputs": [
    {
     "data": {
      "text/plain": [
       "neutral     394894\n",
       "positive    229366\n",
       "negative     91889\n",
       "Name: polarity_sentiment, dtype: int64"
      ]
     },
     "execution_count": 40,
     "metadata": {},
     "output_type": "execute_result"
    }
   ],
   "source": [
    "clean_df['polarity_sentiment'].value_counts()"
   ]
  },
  {
   "cell_type": "code",
   "execution_count": 41,
   "id": "9bc49491-01c2-4699-b825-f673fc918814",
   "metadata": {},
   "outputs": [],
   "source": [
    "#Get sentiment scores from Vader Sentiment Analyzer \n",
    "clean_df['scores'] = clean_df['text_cleaned_string'].apply(lambda tweet: SentimentIntensityAnalyzer().polarity_scores(tweet))"
   ]
  },
  {
   "cell_type": "code",
   "execution_count": 42,
   "id": "688140cb-46cd-45cd-97b4-32592b415065",
   "metadata": {},
   "outputs": [],
   "source": [
    "#Create a new column for each of the returned scores -- positive, neutral, negative, compound \n",
    "clean_df['compound']  = clean_df['scores'].apply(lambda score_dict: score_dict['compound'])\n",
    "clean_df['neutral']  = clean_df['scores'].apply(lambda score_dict: score_dict['neu'])\n",
    "clean_df['negative']  = clean_df['scores'].apply(lambda score_dict: score_dict['neg'])\n",
    "clean_df['positive']  = clean_df['scores'].apply(lambda score_dict: score_dict['pos'])\n",
    "\n",
    "#Get overall sentiment (positive, negative or neutral)\n",
    "clean_df['sentiment'] = get_sentiment(list(clean_df['compound']))"
   ]
  },
  {
   "cell_type": "code",
   "execution_count": 44,
   "id": "9854fdb0-c9e3-47ca-8bf3-a334b698517a",
   "metadata": {},
   "outputs": [],
   "source": [
    "clean_df.to_csv('TestClean2014Data.csv', sep = ',', index = False)"
   ]
  },
  {
   "cell_type": "code",
   "execution_count": 169,
   "id": "8a2ad7e9-52c5-473b-9689-4fe755502674",
   "metadata": {},
   "outputs": [],
   "source": [
    "#Compute average scores delivered by Vader for each month and combine into one dataframe \n",
    "\n",
    "scores_df = clean_df.groupby('month_year')['positive'].mean().reset_index(name = 'avg_positive')\n",
    "scores_df2 = clean_df.groupby('month_year')['neutral'].mean().reset_index(name = 'avg_neutral')\n",
    "scores_df3 = clean_df.groupby('month_year')['negative'].mean().reset_index(name = 'avg_negative')\n",
    "scores_df4 = clean_df.groupby('month_year')['compound'].mean().reset_index(name = 'avg_compound')\n",
    "\n",
    "merged_score1 = pd.merge(scores_df, scores_df2, on = 'month_year')\n",
    "merged_score2 = merged_score1.merge(scores_df3, on = 'month_year')\n",
    "merged_score3 = merged_score2.merge(scores_df4, on = 'month_year')"
   ]
  },
  {
   "cell_type": "code",
   "execution_count": 176,
   "id": "5da70efe-c102-4b91-ba69-4176c5c57112",
   "metadata": {},
   "outputs": [],
   "source": [
    "merged_score3['datetime'] = pd.to_datetime(merged_score3['month_year'])\n",
    "merged_score3 = merged_score3.sort_values(by='datetime').reset_index(drop=True)"
   ]
  },
  {
   "cell_type": "code",
   "execution_count": 178,
   "id": "120f1336-1009-4f67-88f1-ef3ade17c977",
   "metadata": {},
   "outputs": [
    {
     "data": {
      "text/html": [
       "<div>\n",
       "<style scoped>\n",
       "    .dataframe tbody tr th:only-of-type {\n",
       "        vertical-align: middle;\n",
       "    }\n",
       "\n",
       "    .dataframe tbody tr th {\n",
       "        vertical-align: top;\n",
       "    }\n",
       "\n",
       "    .dataframe thead th {\n",
       "        text-align: right;\n",
       "    }\n",
       "</style>\n",
       "<table border=\"1\" class=\"dataframe\">\n",
       "  <thead>\n",
       "    <tr style=\"text-align: right;\">\n",
       "      <th></th>\n",
       "      <th>month_year</th>\n",
       "      <th>avg_polarity</th>\n",
       "      <th>avg_subjectivity</th>\n",
       "      <th>datetime</th>\n",
       "    </tr>\n",
       "  </thead>\n",
       "  <tbody>\n",
       "    <tr>\n",
       "      <th>4</th>\n",
       "      <td>Jan-2020</td>\n",
       "      <td>0.087531</td>\n",
       "      <td>0.370085</td>\n",
       "      <td>2020-01-01</td>\n",
       "    </tr>\n",
       "    <tr>\n",
       "      <th>3</th>\n",
       "      <td>Feb-2020</td>\n",
       "      <td>0.088812</td>\n",
       "      <td>0.366552</td>\n",
       "      <td>2020-02-01</td>\n",
       "    </tr>\n",
       "    <tr>\n",
       "      <th>7</th>\n",
       "      <td>Mar-2020</td>\n",
       "      <td>0.075430</td>\n",
       "      <td>0.349152</td>\n",
       "      <td>2020-03-01</td>\n",
       "    </tr>\n",
       "    <tr>\n",
       "      <th>0</th>\n",
       "      <td>Apr-2020</td>\n",
       "      <td>0.051916</td>\n",
       "      <td>0.380047</td>\n",
       "      <td>2020-04-01</td>\n",
       "    </tr>\n",
       "    <tr>\n",
       "      <th>8</th>\n",
       "      <td>May-2020</td>\n",
       "      <td>0.063667</td>\n",
       "      <td>0.378551</td>\n",
       "      <td>2020-05-01</td>\n",
       "    </tr>\n",
       "    <tr>\n",
       "      <th>6</th>\n",
       "      <td>Jun-2020</td>\n",
       "      <td>0.060581</td>\n",
       "      <td>0.386042</td>\n",
       "      <td>2020-06-01</td>\n",
       "    </tr>\n",
       "    <tr>\n",
       "      <th>5</th>\n",
       "      <td>Jul-2020</td>\n",
       "      <td>0.076816</td>\n",
       "      <td>0.351162</td>\n",
       "      <td>2020-07-01</td>\n",
       "    </tr>\n",
       "    <tr>\n",
       "      <th>1</th>\n",
       "      <td>Aug-2020</td>\n",
       "      <td>0.092482</td>\n",
       "      <td>0.361673</td>\n",
       "      <td>2020-08-01</td>\n",
       "    </tr>\n",
       "    <tr>\n",
       "      <th>11</th>\n",
       "      <td>Sep-2020</td>\n",
       "      <td>0.104530</td>\n",
       "      <td>0.381311</td>\n",
       "      <td>2020-09-01</td>\n",
       "    </tr>\n",
       "    <tr>\n",
       "      <th>10</th>\n",
       "      <td>Oct-2020</td>\n",
       "      <td>0.090738</td>\n",
       "      <td>0.357288</td>\n",
       "      <td>2020-10-01</td>\n",
       "    </tr>\n",
       "    <tr>\n",
       "      <th>9</th>\n",
       "      <td>Nov-2020</td>\n",
       "      <td>0.089165</td>\n",
       "      <td>0.358440</td>\n",
       "      <td>2020-11-01</td>\n",
       "    </tr>\n",
       "    <tr>\n",
       "      <th>2</th>\n",
       "      <td>Dec-2020</td>\n",
       "      <td>0.088103</td>\n",
       "      <td>0.354952</td>\n",
       "      <td>2020-12-01</td>\n",
       "    </tr>\n",
       "  </tbody>\n",
       "</table>\n",
       "</div>"
      ],
      "text/plain": [
       "   month_year  avg_polarity  avg_subjectivity   datetime\n",
       "4    Jan-2020      0.087531          0.370085 2020-01-01\n",
       "3    Feb-2020      0.088812          0.366552 2020-02-01\n",
       "7    Mar-2020      0.075430          0.349152 2020-03-01\n",
       "0    Apr-2020      0.051916          0.380047 2020-04-01\n",
       "8    May-2020      0.063667          0.378551 2020-05-01\n",
       "6    Jun-2020      0.060581          0.386042 2020-06-01\n",
       "5    Jul-2020      0.076816          0.351162 2020-07-01\n",
       "1    Aug-2020      0.092482          0.361673 2020-08-01\n",
       "11   Sep-2020      0.104530          0.381311 2020-09-01\n",
       "10   Oct-2020      0.090738          0.357288 2020-10-01\n",
       "9    Nov-2020      0.089165          0.358440 2020-11-01\n",
       "2    Dec-2020      0.088103          0.354952 2020-12-01"
      ]
     },
     "execution_count": 178,
     "metadata": {},
     "output_type": "execute_result"
    }
   ],
   "source": [
    "#Compute average polarity and subjectivity \n",
    "polarity_df = clean_df.groupby('month_year')['Polarity'].mean().reset_index(name = 'avg_polarity')\n",
    "subjectivity_df = clean_df.groupby('month_year')['Subjectivity'].mean().reset_index(name = 'avg_subjectivity')\n",
    "\n",
    "merged_polarity = pd.merge(polarity_df, subjectivity_df, on = 'month_year')\n",
    "merged_polarity['datetime'] = pd.to_datetime(merged_polarity['month_year'])\n",
    "merged_polarity = merged_polarity.sort_values(by='datetime')"
   ]
  },
  {
   "cell_type": "code",
   "execution_count": 179,
   "id": "33b69a11-2e58-4a53-8d73-d0bc29585733",
   "metadata": {},
   "outputs": [],
   "source": [
    "#Merge all average scores together \n",
    "merged = pd.merge(merged_score3, merged_polarity[['month_year', 'avg_polarity']], on= 'month_year', how='left')\n",
    "merged1 = pd.merge(merged, merged_polarity[['month_year', 'avg_subjectivity']], on= 'month_year', how='left')"
   ]
  },
  {
   "cell_type": "code",
   "execution_count": 181,
   "id": "8ef50be2-0930-4a87-9bf8-5c1b57af3182",
   "metadata": {},
   "outputs": [],
   "source": [
    "merged1.to_csv('2017_avg_scores.csv', sep = ',', index = False)"
   ]
  },
  {
   "cell_type": "code",
   "execution_count": null,
   "id": "0f325f0c-f9f5-44ed-bc36-aec431c04846",
   "metadata": {},
   "outputs": [],
   "source": []
  },
  {
   "cell_type": "code",
   "execution_count": null,
   "id": "d4626ce5-cf3a-4dc8-b698-482b653b18b8",
   "metadata": {},
   "outputs": [],
   "source": []
  }
 ],
 "metadata": {
  "kernelspec": {
   "display_name": "Python 3 (ipykernel)",
   "language": "python",
   "name": "python3"
  },
  "language_info": {
   "codemirror_mode": {
    "name": "ipython",
    "version": 3
   },
   "file_extension": ".py",
   "mimetype": "text/x-python",
   "name": "python",
   "nbconvert_exporter": "python",
   "pygments_lexer": "ipython3",
   "version": "3.9.12"
  }
 },
 "nbformat": 4,
 "nbformat_minor": 5
}

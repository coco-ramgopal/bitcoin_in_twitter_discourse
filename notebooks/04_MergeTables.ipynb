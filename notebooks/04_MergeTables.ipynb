{
 "cells": [
  {
   "cell_type": "markdown",
   "id": "5bdce496-e32f-417a-8719-2b2e68c14585",
   "metadata": {},
   "source": [
    "Purpose: Merge all of the tables that contain the sentiment analysis data for each year into one large dataframe. Export into csv file.  "
   ]
  },
  {
   "cell_type": "markdown",
   "id": "fc68fcec-c630-4be4-b16f-e9df30a3515a",
   "metadata": {},
   "source": [
    "# Notebook Setup:"
   ]
  },
  {
   "cell_type": "code",
   "execution_count": 2,
   "id": "a1f9e254-6692-4736-b5fa-49c904477525",
   "metadata": {},
   "outputs": [],
   "source": [
    "import pandas as pd\n",
    "from textblob import TextBlob\n",
    "import re\n",
    "import string\n",
    "from nltk.sentiment.vader import SentimentIntensityAnalyzer\n",
    "import time "
   ]
  },
  {
   "cell_type": "code",
   "execution_count": 3,
   "id": "48d2c61b-cde0-4db6-8a98-3ee76df29af6",
   "metadata": {},
   "outputs": [],
   "source": [
    "path = \"/Users/cocoramgopal/code/cryptocurrency1/data/processed/\""
   ]
  },
  {
   "cell_type": "markdown",
   "id": "595f9cb9-e743-4cdb-a6e9-7a4d0f2bbcfb",
   "metadata": {},
   "source": [
    "# Import Clean Data For Each Year"
   ]
  },
  {
   "cell_type": "code",
   "execution_count": 4,
   "id": "d0895375-91c0-421e-a267-c9c2725b3dc6",
   "metadata": {},
   "outputs": [
    {
     "name": "stderr",
     "output_type": "stream",
     "text": [
      "/var/folders/rx/x8fz7l6525s7sxc7h7cf4qw40000gn/T/ipykernel_4890/2118251146.py:1: DtypeWarning: Columns (0,1,2,5,6,11) have mixed types. Specify dtype option on import or set low_memory=False.\n",
      "  df_2021 = pd.read_csv(path+'TestClean2021Data.csv')\n"
     ]
    }
   ],
   "source": [
    "df_2021 = pd.read_csv(path+'TestClean2021Data.csv')"
   ]
  },
  {
   "cell_type": "code",
   "execution_count": 6,
   "id": "5e8d06ae-a843-4daa-9c7e-365395bf8100",
   "metadata": {},
   "outputs": [
    {
     "name": "stderr",
     "output_type": "stream",
     "text": [
      "/var/folders/rx/x8fz7l6525s7sxc7h7cf4qw40000gn/T/ipykernel_4890/1820771973.py:1: DtypeWarning: Columns (1,2,5,6,11) have mixed types. Specify dtype option on import or set low_memory=False.\n",
      "  df_2020 = pd.read_csv(path+'TestClean2020Data.csv')\n"
     ]
    }
   ],
   "source": [
    "df_2020 = pd.read_csv(path+'TestClean2020Data.csv')"
   ]
  },
  {
   "cell_type": "code",
   "execution_count": 7,
   "id": "d900b3fc-cd76-461b-8c30-0f75ed2bb8de",
   "metadata": {},
   "outputs": [
    {
     "name": "stderr",
     "output_type": "stream",
     "text": [
      "/var/folders/rx/x8fz7l6525s7sxc7h7cf4qw40000gn/T/ipykernel_4890/3911882186.py:1: DtypeWarning: Columns (1,2,5,6,11) have mixed types. Specify dtype option on import or set low_memory=False.\n",
      "  df_2019 = pd.read_csv(path+'TestClean2019Data.csv')\n"
     ]
    }
   ],
   "source": [
    "df_2019 = pd.read_csv(path+'TestClean2019Data.csv')"
   ]
  },
  {
   "cell_type": "code",
   "execution_count": 8,
   "id": "82440caa-9510-49f0-afd7-b8ac3e041fac",
   "metadata": {},
   "outputs": [],
   "source": [
    "df = pd.concat([df_2019, df_2020])"
   ]
  },
  {
   "cell_type": "code",
   "execution_count": 9,
   "id": "8e9098ac-db1b-4246-93cc-d7965d7e1f14",
   "metadata": {},
   "outputs": [],
   "source": [
    "df2 = pd.concat([df, df_2021])"
   ]
  },
  {
   "cell_type": "code",
   "execution_count": 10,
   "id": "bdb16c4a-f779-462a-b0fd-bebd776ea8e1",
   "metadata": {},
   "outputs": [
    {
     "name": "stderr",
     "output_type": "stream",
     "text": [
      "/var/folders/rx/x8fz7l6525s7sxc7h7cf4qw40000gn/T/ipykernel_4890/3313012260.py:1: DtypeWarning: Columns (1,2,5,6,11) have mixed types. Specify dtype option on import or set low_memory=False.\n",
      "  df_2018 = pd.read_csv(path+'TestClean2018Data.csv')\n"
     ]
    }
   ],
   "source": [
    "df_2018 = pd.read_csv(path+'TestClean2018Data.csv')\n",
    "df3 = pd.concat([df_2018, df2])"
   ]
  },
  {
   "cell_type": "code",
   "execution_count": 11,
   "id": "0077b625-77c5-4136-a0f7-2a9384c5c647",
   "metadata": {},
   "outputs": [
    {
     "name": "stderr",
     "output_type": "stream",
     "text": [
      "/var/folders/rx/x8fz7l6525s7sxc7h7cf4qw40000gn/T/ipykernel_4890/1749623954.py:1: DtypeWarning: Columns (0,1,2,5,6,11) have mixed types. Specify dtype option on import or set low_memory=False.\n",
      "  df_2017 = pd.read_csv(path+'TestClean2017Data.csv')\n"
     ]
    }
   ],
   "source": [
    "df_2017 = pd.read_csv(path+'TestClean2017Data.csv')\n",
    "df4 = pd.concat([df_2017, df3])"
   ]
  },
  {
   "cell_type": "code",
   "execution_count": 12,
   "id": "26de3270-642e-49d9-ab8e-239381d0b8f9",
   "metadata": {},
   "outputs": [
    {
     "name": "stderr",
     "output_type": "stream",
     "text": [
      "/var/folders/rx/x8fz7l6525s7sxc7h7cf4qw40000gn/T/ipykernel_4890/483447220.py:1: DtypeWarning: Columns (1,2,5,6,11) have mixed types. Specify dtype option on import or set low_memory=False.\n",
      "  df_2016 = pd.read_csv(path+'TestClean2016Data.csv')\n"
     ]
    }
   ],
   "source": [
    "df_2016 = pd.read_csv(path+'TestClean2016Data.csv')\n",
    "df5 = pd.concat([df_2016, df4])"
   ]
  },
  {
   "cell_type": "code",
   "execution_count": 13,
   "id": "e1c97aba-d59c-4410-9827-c5561433cc82",
   "metadata": {},
   "outputs": [
    {
     "name": "stderr",
     "output_type": "stream",
     "text": [
      "/var/folders/rx/x8fz7l6525s7sxc7h7cf4qw40000gn/T/ipykernel_4890/883207888.py:1: DtypeWarning: Columns (0,1,2,5,6,11) have mixed types. Specify dtype option on import or set low_memory=False.\n",
      "  df_2015 = pd.read_csv(path+'TestClean2015Data.csv')\n"
     ]
    }
   ],
   "source": [
    "df_2015 = pd.read_csv(path+'TestClean2015Data.csv')\n",
    "df6 = pd.concat([df_2015, df5])"
   ]
  },
  {
   "cell_type": "code",
   "execution_count": 14,
   "id": "5c1412ed-aaee-4e52-a76b-6899c37e8c35",
   "metadata": {},
   "outputs": [
    {
     "name": "stderr",
     "output_type": "stream",
     "text": [
      "/var/folders/rx/x8fz7l6525s7sxc7h7cf4qw40000gn/T/ipykernel_4890/3516241135.py:1: DtypeWarning: Columns (0,1,2,5,6,11) have mixed types. Specify dtype option on import or set low_memory=False.\n",
      "  df_2014 = pd.read_csv(path+'TestClean2014Data.csv')\n"
     ]
    }
   ],
   "source": [
    "df_2014 = pd.read_csv(path+'TestClean2014Data.csv')\n",
    "df7 = pd.concat([df_2014, df6])"
   ]
  },
  {
   "cell_type": "code",
   "execution_count": 15,
   "id": "126aff04-da96-40fa-b61c-3975f1e2c3eb",
   "metadata": {},
   "outputs": [],
   "source": [
    "df7.to_csv(path+'mer_daily_scores.csv', sep = ',', index = False)"
   ]
  },
  {
   "cell_type": "code",
   "execution_count": null,
   "id": "3b65daae-c326-4783-8915-56f9301d79aa",
   "metadata": {},
   "outputs": [],
   "source": []
  }
 ],
 "metadata": {
  "kernelspec": {
   "display_name": "Python 3 (ipykernel)",
   "language": "python",
   "name": "python3"
  },
  "language_info": {
   "codemirror_mode": {
    "name": "ipython",
    "version": 3
   },
   "file_extension": ".py",
   "mimetype": "text/x-python",
   "name": "python",
   "nbconvert_exporter": "python",
   "pygments_lexer": "ipython3",
   "version": "3.9.12"
  }
 },
 "nbformat": 4,
 "nbformat_minor": 5
}

{
 "cells": [
  {
   "cell_type": "markdown",
   "id": "acf2d026-949f-4829-8aba-5d1c0add8b47",
   "metadata": {},
   "source": [
    "# Harvest Tweet Corpus\n",
    "\n",
    "## Overview\n",
    "\n",
    "This notebook contains code to harvest Tweets that mention the following words and hashtags:\n",
    "\n",
    "- `Bitcoin`\n",
    "- `BTC`\n",
    "- `#BTC`\n",
    "- `#Bitcoin`\n",
    "\n",
    "We'll use the [Twitter API for Academic Research][] for bulk access to Tweets, with the goal of building a corpus that spans eight years of Twitter history.\n",
    "\n",
    "## Docs and other resources\n",
    "\n",
    "- [Twitter API for Academic Research][] - overview of Academic-level access\n",
    "- [Twitter Search API docs][] - Provides \"premium\"-level access for academic researchers to the *Full Archive Search*, which allows you to gather Tweets as far back as 2006.\n",
    "- [Twitter Full Archive Search python example][]\n",
    "\n",
    "\n",
    "\n",
    "[Twitter API for Academic Research]: https://developer.twitter.com/en/products/twitter-api/academic-research\n",
    "\n",
    "[Twitter Search API docs]: https://developer.twitter.com/en/docs/twitter-api/premium/search-api/overview\n",
    "\n",
    "[Twitter Full Archive Search python example]: https://github.com/twitterdev/Twitter-API-v2-sample-code/blob/main/Full-Archive-Search/full-archive-search.py\n"
   ]
  },
  {
   "cell_type": "markdown",
   "id": "b00d49bc-4fe3-4466-ab5f-7ad7bde21330",
   "metadata": {},
   "source": [
    "## Twitter Full Archive search\n",
    "\n",
    "Below is a sample code based on the `Twitter Full Archive Search python example` (*see above for link to original code example*).\n",
    "\n",
    "### Preliminary steps\n",
    "\n",
    "The below code will only work if you use the standard `pipenv` workflow:\n",
    "\n",
    "```\n",
    "cd cryptocurrency1/\n",
    "pipenv run jupyter lab\n",
    "```\n",
    "\n",
    "The above starts Jupyter Lab in the context of a virtual environment, which in turn makes the `TWITTER_BEARER_TOKEN` available to your code as an environment variable.\n",
    "\n",
    "If you followed that procedure, the below code should work."
   ]
  },
  {
   "cell_type": "markdown",
   "id": "9bc594cf-2015-4d7a-a595-eef7045d56c8",
   "metadata": {},
   "source": [
    "Step 1) Twitter Count and Comparison to bitcoin price by month per year -- show a correlation between discourse and price -- give examples that we see with december 2017 (skyrocket example) and major dip example \n",
    "\n",
    "Step 2) Twitter Harvesting -- for each month per year harvested tweets that met a specific quer (give query)\n",
    "                           -- explain the reasons for the filterst that were added to the query \n",
    "                           -- explain that the original goal was to harvest 100,000 tweets for each month per year but we soon realized that \n",
    "                           for certain years, not enough tweets that met our query existed -- therefore we based this off of as much data as we \n",
    "                           collect and normalized it for comparison -- also provides insight into when the topic of bitcoin was\n",
    "                           more popular than others \n",
    "                           --did this for each year -- and also collected the date it was created as well as reply, retweet, quote and like count \n",
    "                           \n",
    "Step 3) Text Processing -- removed punctuation, emojis, cleaned text \n",
    "\n",
    "Step 4) TextBlob sentiment analysis \n",
    "\n",
    "Step 5) Vader Sentiment Intensity Analyzer \n",
    "\n",
    "Step 6) Calculate aggregate values \n",
    "\n",
    "Step 7) Visualization "
   ]
  },
  {
   "cell_type": "code",
   "execution_count": null,
   "id": "456409e7-a402-4347-8c13-7443886b17a5",
   "metadata": {},
   "outputs": [],
   "source": [
    "Further exploration: \n",
    "    --autoaggressive analysis to explore XYZ\n",
    "    --explore how sentiment spread by taking into account replies, retweets, quotes and likes to determine virality of a particular sentiment \n",
    "    --see how this differs from fiat markets \n",
    "    --considering bitcoins main audience (techies), meme culture and media could play a large role in portraying sentiment -- deeper exploration\n",
    "    into sentiment expressed through images and memes could provide a richer insight into what public sentiment can tell us about the bitcoin market "
   ]
  }
 ],
 "metadata": {
  "kernelspec": {
   "display_name": "Python 3 (ipykernel)",
   "language": "python",
   "name": "python3"
  },
  "language_info": {
   "codemirror_mode": {
    "name": "ipython",
    "version": 3
   },
   "file_extension": ".py",
   "mimetype": "text/x-python",
   "name": "python",
   "nbconvert_exporter": "python",
   "pygments_lexer": "ipython3",
   "version": "3.9.12"
  }
 },
 "nbformat": 4,
 "nbformat_minor": 5
}
